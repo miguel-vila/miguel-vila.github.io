{
 "cells": [
  {
   "cell_type": "markdown",
   "metadata": {},
   "source": [
    "# Solving Dynamic Programming problems with Functional Programming\n",
    "\n",
    "(This notebook is intended to go along with [this](https://miguel-vila.github.io/posts/2017-01-02-dp-with-fp.html) blog post)\n",
    "\n",
    "First let's have some testing code:"
   ]
  },
  {
   "cell_type": "code",
   "execution_count": 1,
   "metadata": {
    "collapsed": false
   },
   "outputs": [
    {
     "data": {
      "text/plain": [
       "defined \u001b[32mclass\u001b[39m \u001b[36mTestCase\u001b[39m\n",
       "defined \u001b[32mfunction\u001b[39m \u001b[36mtestKnapsackVal\u001b[39m\n",
       "\u001b[36mtests\u001b[39m: \u001b[32mList\u001b[39m[\u001b[32mTestCase\u001b[39m] = \u001b[33mList\u001b[39m(\n",
       "  \u001b[33mTestCase\u001b[39m(\n",
       "    \u001b[32m165\u001b[39m,\n",
       "    \u001b[33mVector\u001b[39m(\u001b[32m92\u001b[39m, \u001b[32m57\u001b[39m, \u001b[32m49\u001b[39m, \u001b[32m68\u001b[39m, \u001b[32m60\u001b[39m, \u001b[32m43\u001b[39m, \u001b[32m67\u001b[39m, \u001b[32m84\u001b[39m, \u001b[32m87\u001b[39m, \u001b[32m72\u001b[39m),\n",
       "    \u001b[33mVector\u001b[39m(\u001b[32m23\u001b[39m, \u001b[32m31\u001b[39m, \u001b[32m29\u001b[39m, \u001b[32m44\u001b[39m, \u001b[32m53\u001b[39m, \u001b[32m38\u001b[39m, \u001b[32m63\u001b[39m, \u001b[32m85\u001b[39m, \u001b[32m89\u001b[39m, \u001b[32m82\u001b[39m),\n",
       "    \u001b[33mVector\u001b[39m(\u001b[32m1\u001b[39m, \u001b[32m1\u001b[39m, \u001b[32m1\u001b[39m, \u001b[32m1\u001b[39m, \u001b[32m0\u001b[39m, \u001b[32m1\u001b[39m, \u001b[32m0\u001b[39m, \u001b[32m0\u001b[39m, \u001b[32m0\u001b[39m, \u001b[32m0\u001b[39m)\n",
       "  ),\n",
       "  \u001b[33mTestCase\u001b[39m(\n",
       "    \u001b[32m26\u001b[39m,\n",
       "    \u001b[33mVector\u001b[39m(\u001b[32m24\u001b[39m, \u001b[32m13\u001b[39m, \u001b[32m23\u001b[39m, \u001b[32m15\u001b[39m, \u001b[32m16\u001b[39m),\n",
       "    \u001b[33mVector\u001b[39m(\u001b[32m12\u001b[39m, \u001b[32m7\u001b[39m, \u001b[32m11\u001b[39m, \u001b[32m8\u001b[39m, \u001b[32m9\u001b[39m),\n",
       "    \u001b[33mVector\u001b[39m(\u001b[32m0\u001b[39m, \u001b[32m1\u001b[39m, \u001b[32m1\u001b[39m, \u001b[32m1\u001b[39m, \u001b[32m0\u001b[39m)\n",
       "\u001b[33m...\u001b[39m\n",
       "defined \u001b[32mfunction\u001b[39m \u001b[36mtestKnapsackMaxVal\u001b[39m"
      ]
     },
     "execution_count": 1,
     "metadata": {},
     "output_type": "execute_result"
    }
   ],
   "source": [
    "case class TestCase(maxWeight: Int, values: Vector[Int], weights: Vector[Int], expectedItems: Vector[Int])\n",
    "\n",
    "def testKnapsackVal(f: (Int, Vector[Int], Vector[Int]) => Int)(testCase: TestCase) = {\n",
    "    val TestCase(maxWeight,values,weights,expectedItems) = testCase\n",
    "    val expectedProfit = (values zip expectedItems).map { case (a,b) => a*b }.sum\n",
    "    val returned = f(maxWeight, values, weights)\n",
    "    assert(returned == expectedProfit, s\"Expected $expectedProfit got $returned\")\n",
    "    println(\"Test Passed!\")\n",
    "}\n",
    "\n",
    "val tests = List(\n",
    "    TestCase(\n",
    "        maxWeight = 165,\n",
    "        values = Vector(92, 57, 49, 68, 60, 43, 67, 84, 87, 72),\n",
    "        weights = Vector(23, 31, 29, 44, 53, 38, 63, 85, 89, 82),\n",
    "        expectedItems = Vector(1, 1,1,1,0,1,0,0,0,0)\n",
    "    ),\n",
    "    TestCase(\n",
    "        maxWeight = 26,\n",
    "        values = Vector(24,13,23,15,16),\n",
    "        weights = Vector(12,7,11,8,9),\n",
    "        expectedItems = Vector(0,1,1,1,0)\n",
    "    ),\n",
    "    TestCase(\n",
    "        maxWeight = 190,\n",
    "        values = Vector(50,50,64,46,50,5),\n",
    "        weights = Vector(56,59,80,64,75,17),\n",
    "        expectedItems = Vector(1,1,0,0,1,0)\n",
    "    ),\n",
    "    TestCase(\n",
    "        maxWeight = 50,\n",
    "        values = Vector(70,20,39,37,7,5,10),\n",
    "        weights = Vector(31,10,20,19,4,3,6),\n",
    "        expectedItems = Vector(1,0,0,1,0,0,0)\n",
    "    ),\n",
    "    TestCase(\n",
    "        maxWeight = 104,\n",
    "        values = Vector(350,400,450,20,70,8,5,5),\n",
    "        weights = Vector(25,35,45,5,25,3,2,2),\n",
    "        expectedItems = Vector(1,0,1,1,1,0,1,1)\n",
    "    ),\n",
    "    TestCase(\n",
    "        maxWeight = 170,\n",
    "        values = Vector(442,525,511,593,546,564,617),\n",
    "        weights = Vector(41,50,49,59,55,57,60),\n",
    "        expectedItems = Vector(0,1,0,1,0,0,1)\n",
    "    )\n",
    ")\n",
    "\n",
    "def testKnapsackMaxVal(f: (Int, Vector[Int], Vector[Int]) => Int) = {\n",
    "    tests foreach testKnapsackVal(f)\n",
    "}"
   ]
  },
  {
   "cell_type": "markdown",
   "metadata": {},
   "source": [
    "## The imperative approach\n",
    "The usual imperative approach relies in some mutable data structure:"
   ]
  },
  {
   "cell_type": "code",
   "execution_count": 2,
   "metadata": {
    "collapsed": false
   },
   "outputs": [
    {
     "name": "stdout",
     "output_type": "stream",
     "text": [
      "Test Passed!\n",
      "Test Passed!\n",
      "Test Passed!\n",
      "Test Passed!\n",
      "Test Passed!\n",
      "Test Passed!\n"
     ]
    },
    {
     "data": {
      "text/plain": [
       "defined \u001b[32mfunction\u001b[39m \u001b[36mknapsack\u001b[39m"
      ]
     },
     "execution_count": 2,
     "metadata": {},
     "output_type": "execute_result"
    }
   ],
   "source": [
    "def knapsack(maxWeight: Int, value: Vector[Int], weight: Vector[Int]): Int = {\n",
    "    val n = value.length\n",
    "    val solutions: Array[Array[Int]] = Array.fill(n+1, maxWeight + 1)( 0 )\n",
    "    (1 to n) foreach { i =>\n",
    "        (1 to maxWeight) foreach { j =>\n",
    "            solutions(i)(j) = if( j - weight(i-1) >= 0 ) {\n",
    "                Math.max( solutions(i-1)(j) , solutions(i-1)(j - weight(i-1)) + value(i-1) )\n",
    "            } else {\n",
    "                solutions(i-1)(j)\n",
    "            }\n",
    "        }\n",
    "    } \n",
    "    solutions(n)(maxWeight)\n",
    "}\n",
    "\n",
    "\n",
    "testKnapsackMaxVal(knapsack)"
   ]
  },
  {
   "cell_type": "markdown",
   "metadata": {},
   "source": [
    "We really just need the last row:"
   ]
  },
  {
   "cell_type": "code",
   "execution_count": 3,
   "metadata": {
    "collapsed": false
   },
   "outputs": [
    {
     "name": "stdout",
     "output_type": "stream",
     "text": [
      "Test Passed!\n",
      "Test Passed!\n",
      "Test Passed!\n",
      "Test Passed!\n",
      "Test Passed!\n",
      "Test Passed!\n"
     ]
    },
    {
     "data": {
      "text/plain": [
       "defined \u001b[32mfunction\u001b[39m \u001b[36mknapsack\u001b[39m"
      ]
     },
     "execution_count": 3,
     "metadata": {},
     "output_type": "execute_result"
    }
   ],
   "source": [
    "def knapsack(maxWeight: Int, value: Vector[Int], weight: Vector[Int]): Int = {\n",
    "    val n = value.length\n",
    "    var solutions: Array[Int] = Array.fill(maxWeight + 1)( 0 )\n",
    "    (1 to n) foreach { i =>\n",
    "        val newSolutions = Array.fill(maxWeight + 1)( 0 )\n",
    "        (1 to maxWeight) foreach { j =>\n",
    "            newSolutions(j) = if( j - weight(i-1) >= 0 ) {\n",
    "                Math.max( solutions(j) , solutions(j - weight(i-1)) + value(i-1) )\n",
    "            } else {\n",
    "                solutions(j)\n",
    "            }\n",
    "        }\n",
    "        solutions = newSolutions\n",
    "    } \n",
    "    solutions(maxWeight)\n",
    "}\n",
    "\n",
    "testKnapsackMaxVal(knapsack)"
   ]
  },
  {
   "cell_type": "markdown",
   "metadata": {},
   "source": [
    "## A functional (but complex) approach\n",
    "\n",
    "We could use the `State` monad:"
   ]
  },
  {
   "cell_type": "code",
   "execution_count": 4,
   "metadata": {
    "collapsed": false
   },
   "outputs": [
    {
     "name": "stdout",
     "output_type": "stream",
     "text": [
      "Test Passed!\n",
      "Test Passed!\n",
      "Test Passed!\n",
      "Test Passed!\n",
      "Test Passed!\n",
      "Test Passed!\n"
     ]
    },
    {
     "data": {
      "text/plain": [
       "\u001b[32mimport \u001b[39m\u001b[36m$ivy.$                          \n",
       "\u001b[39m\n",
       "\u001b[32mimport \u001b[39m\u001b[36mcats._, cats.instances.all._, cats.syntax.traverse._, cats.syntax.foldable._\n",
       "\u001b[39m\n",
       "\u001b[32mimport \u001b[39m\u001b[36mcats.data.State\n",
       "\n",
       "\u001b[39m\n",
       "defined \u001b[32mfunction\u001b[39m \u001b[36msetSolution\u001b[39m\n",
       "defined \u001b[32mfunction\u001b[39m \u001b[36mknapsack\u001b[39m"
      ]
     },
     "execution_count": 4,
     "metadata": {},
     "output_type": "execute_result"
    }
   ],
   "source": [
    "import $ivy.`org.typelevel::cats:0.7.2`\n",
    "import cats._, cats.instances.all._, cats.syntax.traverse._, cats.syntax.foldable._\n",
    "import cats.data.State\n",
    "\n",
    "def setSolution(i: Int, j: Int, newVal: Int)\n",
    "               (solutions: Vector[Vector[Int]]): Vector[Vector[Int]] = {\n",
    "    solutions.updated(i, solutions(i).updated(j, newVal))\n",
    "}\n",
    "\n",
    "def knapsack(maxWeight: Int, value: Vector[Int], weight: Vector[Int]): Int = {\n",
    "    val n = value.length\n",
    "    val initialState: Vector[Vector[Int]] = Vector.fill(n+1, maxWeight + 1)( 0 )\n",
    "    val st: State[Vector[Vector[Int]], Unit] = ( 1 to n ).toList.traverseU_ { i =>\n",
    "        ( 1 to maxWeight ).toList.traverseU_ { j =>\n",
    "            for {\n",
    "                solutions <- State.get[Vector[Vector[Int]]]\n",
    "                newVal = if( j - weight(i-1) >= 0 ) {\n",
    "                    Math.max( solutions(i-1)(j) , solutions(i-1)(j - weight(i-1)) + value(i-1) )\n",
    "                } else {\n",
    "                    solutions(i-1)(j)\n",
    "                }\n",
    "                _ <- State.modify(setSolution(i,j,newVal))\n",
    "            } yield ()\n",
    "        }\n",
    "    }\n",
    "    val solution = st.runS(initialState).value\n",
    "    solution(n)(maxWeight)\n",
    "}\n",
    "\n",
    "testKnapsackMaxVal(knapsack)"
   ]
  },
  {
   "cell_type": "markdown",
   "metadata": {},
   "source": [
    "Once again, we just need the last row:"
   ]
  },
  {
   "cell_type": "code",
   "execution_count": 5,
   "metadata": {
    "collapsed": false
   },
   "outputs": [
    {
     "name": "stdout",
     "output_type": "stream",
     "text": [
      "Test Passed!\n",
      "Test Passed!\n",
      "Test Passed!\n",
      "Test Passed!\n",
      "Test Passed!\n",
      "Test Passed!\n"
     ]
    },
    {
     "data": {
      "text/plain": [
       "defined \u001b[32mfunction\u001b[39m \u001b[36mknapsack\u001b[39m"
      ]
     },
     "execution_count": 5,
     "metadata": {},
     "output_type": "execute_result"
    }
   ],
   "source": [
    "def knapsack(maxWeight: Int, value: Vector[Int], weight: Vector[Int]): Int = {\n",
    "    val n = value.length\n",
    "    val initialState: Vector[Int] = Vector.fill(maxWeight + 1)( 0 )\n",
    "    val st: State[Vector[Int], Unit] = ( 1 to n ).toList.traverseU_ { i =>\n",
    "        for {\n",
    "            solutions <- State.get[Vector[Int]]\n",
    "            newSolutions = 0 +: ( 1 to maxWeight ).map { j: Int =>\n",
    "                if( j - weight(i-1) >= 0 ) {\n",
    "                    Math.max( solutions(j) , solutions(j - weight(i-1)) + value(i-1) )\n",
    "                } else {\n",
    "                    solutions(j)\n",
    "                }\n",
    "            }.toVector\n",
    "            _ <- State.set(newSolutions)\n",
    "        } yield ()\n",
    "    }\n",
    "    val solution = st.runS(initialState).value\n",
    "    solution(maxWeight)\n",
    "}\n",
    "\n",
    "testKnapsackMaxVal(knapsack)"
   ]
  },
  {
   "cell_type": "markdown",
   "metadata": {},
   "source": [
    "## A functional and simple approach\n",
    "\n",
    "There is a simpler and functional way to do it. Just use fold:"
   ]
  },
  {
   "cell_type": "code",
   "execution_count": 6,
   "metadata": {
    "collapsed": false
   },
   "outputs": [
    {
     "name": "stdout",
     "output_type": "stream",
     "text": [
      "Test Passed!\n",
      "Test Passed!\n",
      "Test Passed!\n",
      "Test Passed!\n",
      "Test Passed!\n",
      "Test Passed!\n"
     ]
    },
    {
     "data": {
      "text/plain": [
       "defined \u001b[32mfunction\u001b[39m \u001b[36mknapsack\u001b[39m"
      ]
     },
     "execution_count": 6,
     "metadata": {},
     "output_type": "execute_result"
    }
   ],
   "source": [
    "def knapsack(maxWeight: Int, value: Vector[Int], weight: Vector[Int]): Int = {\n",
    "    val n = value.length\n",
    "    val firstRow = Vector.fill(maxWeight + 1)( 0 )\n",
    "    (1 to n).foldLeft(firstRow) { (upperRow, i) =>\n",
    "        0 +: (1 to maxWeight).map { j => \n",
    "            if( j - weight(i-1) >= 0 ) {\n",
    "                Math.max( \n",
    "                    upperRow(j) ,\n",
    "                    upperRow(j - weight(i-1)) + value(i-1)\n",
    "                )\n",
    "            } else {\n",
    "                upperRow(j)\n",
    "            }\n",
    "        }.toVector\n",
    "    }.last\n",
    "}\n",
    "\n",
    "testKnapsackMaxVal(knapsack)"
   ]
  },
  {
   "cell_type": "markdown",
   "metadata": {},
   "source": [
    "## When the dependencies have another shape\n",
    "\n",
    "In [this](https://projecteuler.net/problem=81) other problem the dependencies have another shape. How can we do it this time?"
   ]
  },
  {
   "cell_type": "code",
   "execution_count": 7,
   "metadata": {
    "collapsed": false
   },
   "outputs": [
    {
     "data": {
      "text/plain": [
       "\u001b[36mvalues\u001b[39m: \u001b[32mVector\u001b[39m[\u001b[32mVector\u001b[39m[\u001b[32mInt\u001b[39m]] = \u001b[33mVector\u001b[39m(\n",
       "  \u001b[33mVector\u001b[39m(\u001b[32m131\u001b[39m, \u001b[32m673\u001b[39m, \u001b[32m234\u001b[39m, \u001b[32m103\u001b[39m, \u001b[32m18\u001b[39m),\n",
       "  \u001b[33mVector\u001b[39m(\u001b[32m201\u001b[39m, \u001b[32m96\u001b[39m, \u001b[32m342\u001b[39m, \u001b[32m965\u001b[39m, \u001b[32m150\u001b[39m),\n",
       "  \u001b[33mVector\u001b[39m(\u001b[32m630\u001b[39m, \u001b[32m803\u001b[39m, \u001b[32m746\u001b[39m, \u001b[32m422\u001b[39m, \u001b[32m111\u001b[39m),\n",
       "  \u001b[33mVector\u001b[39m(\u001b[32m537\u001b[39m, \u001b[32m699\u001b[39m, \u001b[32m497\u001b[39m, \u001b[32m121\u001b[39m, \u001b[32m956\u001b[39m),\n",
       "  \u001b[33mVector\u001b[39m(\u001b[32m805\u001b[39m, \u001b[32m732\u001b[39m, \u001b[32m524\u001b[39m, \u001b[32m37\u001b[39m, \u001b[32m331\u001b[39m)\n",
       ")\n",
       "defined \u001b[32mfunction\u001b[39m \u001b[36maccumulativeSum\u001b[39m\n",
       "defined \u001b[32mfunction\u001b[39m \u001b[36mminPath\u001b[39m"
      ]
     },
     "execution_count": 7,
     "metadata": {},
     "output_type": "execute_result"
    }
   ],
   "source": [
    "val values = Vector(\n",
    "    Vector(131, 673, 234, 103, 18 ),\n",
    "    Vector(201, 96 , 342, 965, 150),\n",
    "    Vector(630, 803, 746, 422, 111),\n",
    "    Vector(537, 699, 497, 121, 956),\n",
    "    Vector(805, 732, 524,  37, 331)\n",
    ")\n",
    "\n",
    "def accumulativeSum(nums: Vector[Int]): Vector[Int] =\n",
    "    nums.scanLeft(0)(_ + _).drop(1)\n",
    "\n",
    "def minPath(values: Vector[Vector[Int]]): Int = {\n",
    "    val m = values.length\n",
    "    val n = values(0).length\n",
    "    val firstRow = accumulativeSum(values(0))\n",
    "    val firstColumn = accumulativeSum( (0 to m-1).toVector.map(values(_)(0)) )\n",
    "    (1 to m-1).foldLeft(firstRow) { (upperRow, i) =>\n",
    "        val leftmostSolution = firstColumn(i)\n",
    "        (1 to n-1).scanLeft(leftmostSolution) { (leftSolution,j) =>\n",
    "            val upperSolution = upperRow(j)\n",
    "            Math.min(leftSolution, upperSolution) + values(i)(j)\n",
    "        }.toVector\n",
    "    }.last\n",
    "}\n",
    "\n",
    "assert(minPath(values) == 2427)"
   ]
  },
  {
   "cell_type": "markdown",
   "metadata": {},
   "source": [
    "## Redux\n",
    "\n",
    "Let's have a very simple definition for a `LazyVector`:"
   ]
  },
  {
   "cell_type": "code",
   "execution_count": 8,
   "metadata": {
    "collapsed": false
   },
   "outputs": [
    {
     "data": {
      "text/plain": [
       "defined \u001b[32mclass\u001b[39m \u001b[36mLazyVector\u001b[39m\n",
       "defined \u001b[32mobject\u001b[39m \u001b[36mLazyVector\u001b[39m"
      ]
     },
     "execution_count": 8,
     "metadata": {},
     "output_type": "execute_result"
    }
   ],
   "source": [
    "class LazyVector[A](thunks: Vector[() => A]) {\n",
    "    \n",
    "    private val values: Array[Option[A]] = Array.fill(thunks.length)(None)\n",
    "    \n",
    "    def apply(i: Int): A = {\n",
    "        if(!values(i).isDefined) {\n",
    "            values(i) = Some( thunks(i)() )\n",
    "        }\n",
    "        values(i).get\n",
    "    }\n",
    "    \n",
    "    def last: A = apply(values.length - 1)\n",
    "    \n",
    "}\n",
    "\n",
    "object LazyVector {\n",
    "    \n",
    "    def tabulate[A](n: Int)(f: Int => A): LazyVector[A] = {\n",
    "        new LazyVector( Vector.tabulate(n)( i => () => f(i) ) )\n",
    "    }\n",
    "\n",
    "    def tabulate[A](m: Int, n: Int)(f: (Int,Int) => A): LazyVector[LazyVector[A]] = {\n",
    "        tabulate(m)( i => tabulate(n)( j => f(i,j) ) )\n",
    "    }\n",
    "\n",
    "}"
   ]
  },
  {
   "cell_type": "markdown",
   "metadata": {},
   "source": [
    "And let's solve the knapsack problem with it:"
   ]
  },
  {
   "cell_type": "code",
   "execution_count": 9,
   "metadata": {
    "collapsed": false
   },
   "outputs": [
    {
     "name": "stdout",
     "output_type": "stream",
     "text": [
      "Test Passed!\n",
      "Test Passed!\n",
      "Test Passed!\n",
      "Test Passed!\n",
      "Test Passed!\n",
      "Test Passed!\n"
     ]
    },
    {
     "data": {
      "text/plain": [
       "defined \u001b[32mfunction\u001b[39m \u001b[36mknapsack\u001b[39m"
      ]
     },
     "execution_count": 9,
     "metadata": {},
     "output_type": "execute_result"
    }
   ],
   "source": [
    "def knapsack(maxWeight: Int, value: Vector[Int], weight: Vector[Int]): Int = {\n",
    "    val n = value.length\n",
    "    lazy val solutions: LazyVector[LazyVector[Int]] = \n",
    "        LazyVector.tabulate(n + 1, maxWeight + 1) { (i,j) =>\n",
    "            if( i == 0 || j == 0 ) {\n",
    "                0\n",
    "            } else if( j - weight(i-1) >= 0 ) {\n",
    "                Math.max( \n",
    "                    solutions(i-1)(j) , \n",
    "                    solutions(i-1)(j - weight(i-1)) + value(i-1) \n",
    "                )\n",
    "            } else {\n",
    "                solutions(i-1)(j)\n",
    "            }\n",
    "        }\n",
    "    solutions(n)(maxWeight)\n",
    "}\n",
    "\n",
    "testKnapsackMaxVal(knapsack)"
   ]
  },
  {
   "cell_type": "markdown",
   "metadata": {},
   "source": [
    "Let's return *which* items:"
   ]
  },
  {
   "cell_type": "code",
   "execution_count": 10,
   "metadata": {
    "collapsed": false
   },
   "outputs": [
    {
     "data": {
      "text/plain": [
       "defined \u001b[32mfunction\u001b[39m \u001b[36mmax\u001b[39m\n",
       "defined \u001b[32mfunction\u001b[39m \u001b[36mknapsackWithItems\u001b[39m"
      ]
     },
     "execution_count": 10,
     "metadata": {},
     "output_type": "execute_result"
    }
   ],
   "source": [
    "def max[A](a: (Int, A), b: (Int, A)): (Int, A) =\n",
    "    if(a._1 > b._1)\n",
    "        a\n",
    "    else\n",
    "        b\n",
    "\n",
    "def knapsackWithItems(maxWeight: Int, value: Vector[Int], weight: Vector[Int]): List[Int] = {\n",
    "    val n = value.length\n",
    "    lazy val solutions: LazyVector[LazyVector[(Int, List[Int])]] = \n",
    "        LazyVector.tabulate(n + 1, maxWeight + 1) { (i,j) =>\n",
    "            if( i == 0 || j == 0 ) {\n",
    "                (0, List.empty)\n",
    "            } else if( j - weight(i-1) >= 0 ) {\n",
    "                val (including, itemsIds) = solutions(i-1)(j - weight(i-1))\n",
    "                max( \n",
    "                    solutions(i-1)(j) ,\n",
    "                    (including + value(i-1), (i-1) :: itemsIds )\n",
    "                )\n",
    "            } else {\n",
    "                solutions(i-1)(j)\n",
    "            }\n",
    "        }\n",
    "    val (_,items) = solutions(n)(maxWeight)\n",
    "    items\n",
    "}"
   ]
  },
  {
   "cell_type": "markdown",
   "metadata": {},
   "source": [
    "Let's test this:"
   ]
  },
  {
   "cell_type": "code",
   "execution_count": 11,
   "metadata": {
    "collapsed": false
   },
   "outputs": [
    {
     "name": "stdout",
     "output_type": "stream",
     "text": [
      "Test Passed!\n",
      "Test Passed!\n",
      "Test Passed!\n",
      "Test Passed!\n",
      "Test Passed!\n",
      "Test Passed!\n"
     ]
    },
    {
     "data": {
      "text/plain": [
       "defined \u001b[32mfunction\u001b[39m \u001b[36mtestKnapsackItems\u001b[39m\n",
       "defined \u001b[32mfunction\u001b[39m \u001b[36mtestKnapsackMaxItems\u001b[39m"
      ]
     },
     "execution_count": 11,
     "metadata": {},
     "output_type": "execute_result"
    }
   ],
   "source": [
    "def testKnapsackItems(f: (Int, Vector[Int], Vector[Int]) => List[Int])(testCase: TestCase) = {\n",
    "    val TestCase(maxWeight,values,weights,expectedItems) = testCase\n",
    "    val returnedItems = f(maxWeight, values, weights)\n",
    "    val expectedItemsIds = expectedItems.zipWithIndex\n",
    "        .filter { case (include,_) => include == 1 }\n",
    "        .map { case (_,index) => index }\n",
    "        .toSet\n",
    "    val returnedItemsIds = returnedItems.toSet\n",
    "    assert(returnedItemsIds == expectedItemsIds, s\"Expected ${expectedItemsIds} got ${expectedItemsIds}\")\n",
    "    println(\"Test Passed!\")\n",
    "}\n",
    "\n",
    "def testKnapsackMaxItems(f: (Int, Vector[Int], Vector[Int]) => List[Int]) = {\n",
    "    tests foreach testKnapsackItems(f)\n",
    "}\n",
    "\n",
    "testKnapsackMaxItems(knapsackWithItems)"
   ]
  },
  {
   "cell_type": "markdown",
   "metadata": {},
   "source": [
    "And [project euler's 81 problem](https://projecteuler.net/problem=81) can be solved in a similar way (you can download the file `p081_matrix.txt` from that link):"
   ]
  },
  {
   "cell_type": "code",
   "execution_count": 12,
   "metadata": {
    "collapsed": false
   },
   "outputs": [
    {
     "data": {
      "text/plain": [
       "defined \u001b[32mtrait\u001b[39m \u001b[36mInstruction\u001b[39m\n",
       "defined \u001b[32mobject\u001b[39m \u001b[36mGoRight\u001b[39m\n",
       "defined \u001b[32mobject\u001b[39m \u001b[36mGoDown\u001b[39m\n",
       "defined \u001b[32mfunction\u001b[39m \u001b[36mminPath\u001b[39m\n",
       "\u001b[36mres11_4\u001b[39m: \u001b[32mList\u001b[39m[\u001b[32mInstruction\u001b[39m] = \u001b[33mList\u001b[39m(GoDown, GoRight, GoRight, GoDown, GoRight, GoDown, GoDown, GoRight)\n",
       "\u001b[36msource\u001b[39m: \u001b[32mio\u001b[39m.\u001b[32mBufferedSource\u001b[39m = empty iterator\n",
       "\u001b[36mvalues2\u001b[39m: \u001b[32mVector\u001b[39m[\u001b[32mVector\u001b[39m[\u001b[32mInt\u001b[39m]] = \u001b[33mVector\u001b[39m(\n",
       "  \u001b[33mVector\u001b[39m(\n",
       "    \u001b[32m4445\u001b[39m,\n",
       "    \u001b[32m2697\u001b[39m,\n",
       "    \u001b[32m5115\u001b[39m,\n",
       "    \u001b[32m718\u001b[39m,\n",
       "    \u001b[32m2209\u001b[39m,\n",
       "    \u001b[32m2212\u001b[39m,\n",
       "    \u001b[32m654\u001b[39m,\n",
       "    \u001b[32m4348\u001b[39m,\n",
       "    \u001b[32m3079\u001b[39m,\n",
       "    \u001b[32m6821\u001b[39m,\n",
       "\u001b[33m...\u001b[39m\n",
       "\u001b[36mres11_7\u001b[39m: \u001b[32mList\u001b[39m[\u001b[32mInstruction\u001b[39m] = \u001b[33mList\u001b[39m(\n",
       "  GoRight,\n",
       "  GoRight,\n",
       "  GoRight,\n",
       "  GoRight,\n",
       "  GoRight,\n",
       "  GoRight,\n",
       "  GoDown,\n",
       "  GoRight,\n",
       "  GoDown,\n",
       "  GoRight,\n",
       "  GoDown,\n",
       "\u001b[33m...\u001b[39m"
      ]
     },
     "execution_count": 12,
     "metadata": {},
     "output_type": "execute_result"
    }
   ],
   "source": [
    "sealed trait Instruction\n",
    "case object GoRight extends Instruction\n",
    "case object GoDown extends Instruction\n",
    "\n",
    "def minPath(values: Vector[Vector[Int]]): List[Instruction] = {\n",
    "    val m = values.length\n",
    "    val n = values(0).length\n",
    "    lazy val solutions: LazyVector[LazyVector[(Int, List[Instruction])]] = \n",
    "        LazyVector.tabulate(m, n) { \n",
    "            case (0,0) => (values(0)(0), List.empty)\n",
    "            case (0,j) => \n",
    "                val (leftVal, leftInsts) = solutions(0)(j-1)\n",
    "                (values(0)(j) + leftVal, leftInsts ++ List(GoRight))\n",
    "            case (i,0) => \n",
    "                val (upVal, upInsts) = solutions(i-1)(0)\n",
    "                (values(i)(0) + upVal, upInsts ++ List(GoDown))\n",
    "            case (i,j) =>\n",
    "                val (leftVal, leftInsts) = solutions(i)(j-1)\n",
    "                val (upVal  , upInsts  ) = solutions(i-1)(j)\n",
    "                if(leftVal < upVal) {\n",
    "                    (leftVal + values(i)(j), leftInsts ++ List(GoRight))\n",
    "                } else {\n",
    "                    (upVal + values(i)(j)  , upInsts ++ List(GoDown))                    \n",
    "                }\n",
    "        }\n",
    "    val (_,insts) = solutions(m-1)(n-1)\n",
    "    insts\n",
    "}\n",
    "\n",
    "minPath(values)\n",
    "\n",
    "val source = scala.io.Source.fromFile(\"p081_matrix.txt\")\n",
    "val values2 = source.getLines().map(_.split(\",\").map(_.toInt).toVector).toVector\n",
    "minPath(values2)"
   ]
  }
 ],
 "metadata": {
  "anaconda-cloud": {},
  "kernelspec": {
   "display_name": "Scala",
   "language": "scala",
   "name": "scala"
  },
  "language_info": {
   "codemirror_mode": "text/x-scala",
   "file_extension": ".scala",
   "mimetype": "text/x-scala",
   "name": "scala211",
   "nbconvert_exporter": "scala",
   "pygments_lexer": "scala",
   "version": "2.11.8"
  }
 },
 "nbformat": 4,
 "nbformat_minor": 1
}
