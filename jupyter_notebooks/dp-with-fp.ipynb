{
 "cells": [
  {
   "cell_type": "code",
   "execution_count": 33,
   "metadata": {
    "collapsed": false
   },
   "outputs": [
    {
     "name": "stdout",
     "output_type": "stream",
     "text": [
      "Test Passed!\n",
      "Test Passed!\n",
      "Test Passed!\n",
      "Test Passed!\n",
      "Test Passed!\n",
      "Test Passed!\n"
     ]
    },
    {
     "data": {
      "text/plain": [
       "defined \u001b[32mfunction \u001b[36mdebug\u001b[0m\n",
       "defined \u001b[32mfunction \u001b[36mknapsack\u001b[0m\n",
       "defined \u001b[32mobject \u001b[36mTester\u001b[0m"
      ]
     },
     "metadata": {},
     "output_type": "display_data"
    }
   ],
   "source": [
    "def debug(m: Array[Array[Int]]) = {\n",
    "    (0 to m(0).length-1) foreach { j =>\n",
    "        print(s\"$j,\")\n",
    "    }\n",
    "    println(\"________________________\")\n",
    "    for { row <- m } {\n",
    "        for { e <- row } {\n",
    "            print(s\"$e,\")\n",
    "        }\n",
    "        println(\"________________\")\n",
    "    }\n",
    "}\n",
    "\n",
    "def knapsack(maxWeight: Int, value: Vector[Int], weight: Vector[Int]): Int = {\n",
    "    val n = value.length\n",
    "    //println(s\"n=$n\")\n",
    "    val solutions: Array[Array[Int]] = Array.fill(n+1, maxWeight + 1)( 0 )\n",
    "    (1 to n) foreach { i =>\n",
    "        (1 to maxWeight) foreach { j =>\n",
    "            solutions(i)(j) = if( j - weight(i-1) >= 0 ) {\n",
    "                Math.max( solutions(i-1)(j) , solutions(i-1)(j - weight(i-1)) + value(i-1) )\n",
    "            } else {\n",
    "                solutions(i-1)(j)\n",
    "            }\n",
    "        }\n",
    "    } \n",
    "    //debug(solutions)\n",
    "    solutions(n)(maxWeight)\n",
    "}\n",
    "\n",
    "object Tester {\n",
    "\n",
    "    case class TestCase(maxWeight: Int, values: Vector[Int], weights: Vector[Int], expectedItems: Vector[Int])\n",
    "\n",
    "    def testKnapsack(f: (Int, Vector[Int], Vector[Int]) => Int)(testCase: TestCase) = {\n",
    "        val TestCase(maxWeight,values,weights,expectedItems) = testCase\n",
    "        val expectedProfit = (values zip expectedItems).map { case (a,b) => a*b }.sum\n",
    "        val returned = f(maxWeight, values, weights)\n",
    "        assert(returned == expectedProfit, s\"Expected $expectedProfit got $returned\")\n",
    "        println(\"Test Passed!\")\n",
    "    }\n",
    "\n",
    "\n",
    "    val testCase1 = TestCase(\n",
    "      maxWeight = 165,\n",
    "      values = Vector(92, 57, 49, 68, 60, 43, 67, 84, 87, 72),\n",
    "      weights = Vector(23, 31, 29, 44, 53, 38, 63, 85, 89, 82),\n",
    "      expectedItems = Vector(1, 1,1,1,0,1,0,0,0,0)\n",
    "    )\n",
    "\n",
    "    val testCase2 = TestCase(\n",
    "      maxWeight = 26,\n",
    "      values = Vector(24,13,23,15,16),\n",
    "      weights = Vector(12,7,11,8,9),\n",
    "      expectedItems = Vector(0,1,1,1,0)\n",
    "    )\n",
    "\n",
    "    val testCase3 = TestCase(\n",
    "      maxWeight = 190,\n",
    "      values = Vector(50,50,64,46,50,5),\n",
    "      weights = Vector(56,59,80,64,75,17),\n",
    "      expectedItems = Vector(1,1,0,0,1,0)\n",
    "    )\n",
    "\n",
    "    val testCase4 = TestCase(\n",
    "      maxWeight = 50,\n",
    "      values = Vector(70,20,39,37,7,5,10),\n",
    "      weights = Vector(31,10,20,19,4,3,6),\n",
    "      expectedItems = Vector(1,0,0,1,0,0,0)\n",
    "    )\n",
    "\n",
    "    val testCase5 = TestCase(\n",
    "      maxWeight = 104,\n",
    "      values = Vector(350,400,450,20,70,8,5,5),\n",
    "      weights = Vector(25,35,45,5,25,3,2,2),\n",
    "      expectedItems = Vector(1,0,1,1,1,0,1,1)\n",
    "    )\n",
    "\n",
    "    val testCase6 = TestCase(\n",
    "      maxWeight = 170,\n",
    "      values = Vector(442,525,511,593,546,564,617),\n",
    "      weights = Vector(41,50,49,59,55,57,60),\n",
    "      expectedItems = Vector(0,1,0,1,0,0,1)\n",
    "    )\n",
    "\n",
    "    def test(f: (Int, Vector[Int], Vector[Int]) => Int) = {\n",
    "        List(\n",
    "            testCase1,\n",
    "            testCase2,\n",
    "            testCase3,\n",
    "            testCase4,\n",
    "            testCase5,\n",
    "            testCase6\n",
    "        ) foreach testKnapsack(f)\n",
    "    }\n",
    "}\n",
    "\n",
    "Tester.test(knapsack)"
   ]
  },
  {
   "cell_type": "code",
   "execution_count": 35,
   "metadata": {
    "collapsed": false
   },
   "outputs": [
    {
     "name": "stdout",
     "output_type": "stream",
     "text": [
      "Test Passed!\n",
      "Test Passed!\n",
      "Test Passed!\n",
      "Test Passed!\n",
      "Test Passed!\n",
      "Test Passed!\n"
     ]
    },
    {
     "data": {
      "text/plain": [
       "defined \u001b[32mfunction \u001b[36mknapsack\u001b[0m"
      ]
     },
     "metadata": {},
     "output_type": "display_data"
    }
   ],
   "source": [
    "def knapsack(maxWeight: Int, value: Vector[Int], weight: Vector[Int]): Int = {\n",
    "    val n = value.length\n",
    "    var solutions: Array[Int] = Array.fill(maxWeight + 1)( 0 )\n",
    "    (1 to n) foreach { i =>\n",
    "        val newSolutions = Array.fill(maxWeight + 1)( 0 )\n",
    "        (1 to maxWeight) foreach { j =>\n",
    "            newSolutions(j) = if( j - weight(i-1) >= 0 ) {\n",
    "                Math.max( solutions(j) , solutions(j - weight(i-1)) + value(i-1) )\n",
    "            } else {\n",
    "                solutions(j)\n",
    "            }\n",
    "        }\n",
    "        solutions = newSolutions\n",
    "    } \n",
    "    solutions(maxWeight)\n",
    "}\n",
    "\n",
    "Tester.test(knapsack)"
   ]
  },
  {
   "cell_type": "code",
   "execution_count": 1,
   "metadata": {
    "collapsed": false
   },
   "outputs": [
    {
     "data": {
      "text/plain": [
       "defined \u001b[32mclass \u001b[36mState\u001b[0m\n",
       "defined \u001b[32mobject \u001b[36mState\u001b[0m"
      ]
     },
     "metadata": {},
     "output_type": "display_data"
    }
   ],
   "source": [
    "case class State[A,S](run: S => (A,S)) extends AnyRef { self =>\n",
    "    \n",
    "    def map[B](f: A => B): State[B,S] = State { st =>\n",
    "        val (a,st2) = self.run(st)\n",
    "        (f(a), st2)\n",
    "    }\n",
    "                                                       \n",
    "                                                       \n",
    "    def flatMap[B](f: A => State[B,S]): State[B,S] = State { st =>\n",
    "        val (a,st2) = self.run(st)\n",
    "        f(a).run(st2)\n",
    "    }\n",
    "                                                    \n",
    "    \n",
    "}\n",
    "\n",
    "object State {\n",
    "    \n",
    "    def succeed[S,A](a: A): State[A, S] = State( st => (a, st) )\n",
    "    \n",
    "    def modify[S](f: S => S): State[Unit, S] = State( st => ( (), f(st) ))\n",
    "    \n",
    "    def set[S](st: S): State[Unit, S] = modify(_ => st)\n",
    "    \n",
    "    def get[S](): State[S,S] = State( st => (st,st) )\n",
    "    \n",
    "    def traverse_[A,B,S](as: Iterable[A])(f: A => State[B,S]): State[Unit,S] = {\n",
    "        as.foldLeft( succeed[S,Unit]( () ) ) { (st, a) =>\n",
    "            for {\n",
    "                _ <- st\n",
    "                _ <- f(a)\n",
    "            } yield ()\n",
    "        }\n",
    "    }\n",
    "    \n",
    "    def traverse[A,B,S](as: Vector[A])(f: A => State[B,S]): State[Vector[B],S] = {\n",
    "        as.foldRight( succeed[S,Vector[B]](Vector.empty) ) { (a,stv) =>\n",
    "            for {\n",
    "                head <- f(a)\n",
    "                tail <- stv\n",
    "            } yield head +: tail\n",
    "        }\n",
    "    }\n",
    "    \n",
    "}"
   ]
  },
  {
   "cell_type": "code",
   "execution_count": 37,
   "metadata": {
    "collapsed": false
   },
   "outputs": [
    {
     "name": "stdout",
     "output_type": "stream",
     "text": [
      "Test Passed!\n",
      "Test Passed!\n",
      "Test Passed!\n",
      "Test Passed!\n",
      "Test Passed!\n",
      "Test Passed!\n"
     ]
    },
    {
     "data": {
      "text/plain": [
       "defined \u001b[32mtype \u001b[36mSolutionsState\u001b[0m\n",
       "defined \u001b[32mfunction \u001b[36mmodifySolution\u001b[0m\n",
       "defined \u001b[32mfunction \u001b[36mknapsack\u001b[0m"
      ]
     },
     "metadata": {},
     "output_type": "display_data"
    }
   ],
   "source": [
    "type SolutionsState = State[Unit,Vector[Vector[Int]]]\n",
    "\n",
    "def modifySolution(i: Int, j: Int, newVal: Int)(solutions: Vector[Vector[Int]]): Vector[Vector[Int]] = {\n",
    "    solutions.updated(i, solutions(i).updated(j, newVal))\n",
    "}\n",
    "\n",
    "def knapsack(maxWeight: Int, value: Vector[Int], weight: Vector[Int]): Int = {\n",
    "    val n = value.length\n",
    "    val initialState: Vector[Vector[Int]] = Vector.fill(n+1, maxWeight + 1)( 0 )\n",
    "    val st: SolutionsState = State.traverse_( 1 to n ) { i =>\n",
    "        State.traverse_( 1 to maxWeight ) { j =>\n",
    "            for {\n",
    "                solutions <- State.get[Vector[Vector[Int]]]()\n",
    "                newVal = if( j - weight(i-1) >= 0 ) {\n",
    "                    Math.max( solutions(i-1)(j) , solutions(i-1)(j - weight(i-1)) + value(i-1) )\n",
    "                } else {\n",
    "                    solutions(i-1)(j)\n",
    "                }\n",
    "                _ <- State.modify(modifySolution(i,j,newVal))\n",
    "            } yield ()\n",
    "        }\n",
    "    }\n",
    "    val (_,solution) = st.run(initialState)\n",
    "    solution(n)(maxWeight)\n",
    "}\n",
    "\n",
    "Tester.test(knapsack)"
   ]
  },
  {
   "cell_type": "code",
   "execution_count": 38,
   "metadata": {
    "collapsed": false
   },
   "outputs": [
    {
     "name": "stdout",
     "output_type": "stream",
     "text": [
      "Test Passed!\n",
      "Test Passed!\n",
      "Test Passed!\n",
      "Test Passed!\n",
      "Test Passed!\n",
      "Test Passed!\n"
     ]
    },
    {
     "data": {
      "text/plain": [
       "defined \u001b[32mtype \u001b[36mSolutionsState\u001b[0m\n",
       "defined \u001b[32mfunction \u001b[36mmodifySolution\u001b[0m\n",
       "defined \u001b[32mfunction \u001b[36mknapsack\u001b[0m"
      ]
     },
     "metadata": {},
     "output_type": "display_data"
    }
   ],
   "source": [
    "type SolutionsState = State[Unit,Vector[Int]]\n",
    "\n",
    "def modifySolution(j: Int, newVal: Int)(solutions: Vector[Int]): Vector[Int] = {\n",
    "    solutions.updated(j, newVal)\n",
    "}\n",
    "\n",
    "def knapsack(maxWeight: Int, value: Vector[Int], weight: Vector[Int]): Int = {\n",
    "    val n = value.length\n",
    "    val initialState: Vector[Int] = Vector.fill(maxWeight + 1)( 0 )\n",
    "    val st: SolutionsState = State.traverse_( 1 to n ) { i =>\n",
    "        for {\n",
    "            solutions <- State.get[Vector[Int]]()\n",
    "            newSolutions = 0 +: ( 1 to maxWeight ).map { j: Int =>\n",
    "                if( j - weight(i-1) >= 0 ) {\n",
    "                    Math.max( solutions(j) , solutions(j - weight(i-1)) + value(i-1) )\n",
    "                } else {\n",
    "                    solutions(j)\n",
    "                }\n",
    "            }.toVector\n",
    "            _ <- State.set(newSolutions)\n",
    "        } yield ()\n",
    "    }\n",
    "    val (_,solution) = st.run(initialState)\n",
    "    solution(maxWeight)\n",
    "}\n",
    "\n",
    "Tester.test(knapsack)"
   ]
  }
 ],
 "metadata": {
  "kernelspec": {
   "display_name": "Scala 2.11",
   "language": "scala211",
   "name": "scala211"
  },
  "language_info": {
   "codemirror_mode": "text/x-scala",
   "file_extension": ".scala",
   "mimetype": "text/x-scala",
   "name": "scala211",
   "pygments_lexer": "scala",
   "version": "2.11.8"
  }
 },
 "nbformat": 4,
 "nbformat_minor": 1
}
