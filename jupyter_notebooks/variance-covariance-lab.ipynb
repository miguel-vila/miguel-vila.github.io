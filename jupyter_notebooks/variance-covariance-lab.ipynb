{
 "cells": [
  {
   "cell_type": "code",
   "execution_count": 1,
   "metadata": {
    "collapsed": false
   },
   "outputs": [
    {
     "data": {
      "text/plain": [
       "defined \u001b[32mtrait\u001b[39m \u001b[36mAnimal\u001b[39m\n",
       "defined \u001b[32mclass\u001b[39m \u001b[36mDog\u001b[39m\n",
       "defined \u001b[32mclass\u001b[39m \u001b[36mCat\u001b[39m"
      ]
     },
     "execution_count": 1,
     "metadata": {},
     "output_type": "execute_result"
    }
   ],
   "source": [
    "sealed trait Animal\n",
    "\n",
    "final case class Dog(name: String) extends Animal\n",
    "final case class Cat(name: String) extends Animal"
   ]
  },
  {
   "cell_type": "markdown",
   "metadata": {},
   "source": [
    "# Functions variance\n",
    "\n",
    "Functions are contravariant in their arguments, and covariant in their results. \n",
    "\n",
    "Why is this? \n",
    "\n",
    "Let's first look at the argument side. If a function accepts a particular type, then it can accept any of it's subtypes. It's similar to making an statement more accurate, by reducing the input space. For example, if I know how to name any `Animal`, I know how to name `Cat`s in particular:"
   ]
  },
  {
   "cell_type": "code",
   "execution_count": 2,
   "metadata": {
    "collapsed": false
   },
   "outputs": [
    {
     "data": {
      "text/plain": [
       "\u001b[36mf1\u001b[39m: \u001b[32mAnimal\u001b[39m => \u001b[32mString\u001b[39m = <function1>\n",
       "\u001b[36mf2\u001b[39m: \u001b[32mCat\u001b[39m => \u001b[32mString\u001b[39m = <function1>\n",
       "\u001b[36mf3\u001b[39m: \u001b[32mDog\u001b[39m => \u001b[32mString\u001b[39m = <function1>"
      ]
     },
     "execution_count": 2,
     "metadata": {},
     "output_type": "execute_result"
    }
   ],
   "source": [
    "val f1 : Animal => String = _.toString\n",
    "val f2 : Cat    => String = f1\n",
    "val f3 : Dog    => String = f1"
   ]
  },
  {
   "cell_type": "markdown",
   "metadata": {},
   "source": [
    "Now let's look at the result side. If a function returns a specific type, then that result can also be viewed as any of it's **supertypes**. It's similar to reducing the accuracy of a statement by widening the result type. For example, if I know how to clone a `Cat` then I can say I know how to clone _some_ `Animal`:"
   ]
  },
  {
   "cell_type": "code",
   "execution_count": 3,
   "metadata": {
    "collapsed": false
   },
   "outputs": [
    {
     "data": {
      "text/plain": [
       "\u001b[36mf1\u001b[39m: \u001b[32mUnit\u001b[39m => \u001b[32mCat\u001b[39m = <function1>\n",
       "\u001b[36mf2\u001b[39m: \u001b[32mUnit\u001b[39m => \u001b[32mAnimal\u001b[39m = <function1>\n",
       "\u001b[36mf3\u001b[39m: \u001b[32mUnit\u001b[39m => \u001b[32mDog\u001b[39m = <function1>\n",
       "\u001b[36mf4\u001b[39m: \u001b[32mUnit\u001b[39m => \u001b[32mAnimal\u001b[39m = <function1>"
      ]
     },
     "execution_count": 3,
     "metadata": {},
     "output_type": "execute_result"
    }
   ],
   "source": [
    "val f1 : Unit => Cat    = _ => Cat(\"minino\")\n",
    "val f2 : Unit => Animal = f1\n",
    "\n",
    "// Same thing happens with other subtypes\n",
    "val f3 : Unit => Dog    = _ => Dog(\"pulgas\")\n",
    "val f4 : Unit => Animal = f3"
   ]
  },
  {
   "cell_type": "markdown",
   "metadata": {},
   "source": [
    "An important thing to note is that this operations (narrowing the input type, or widening the result type) are safe to do. Transforming a program in such a way won't result in any unexpected runtime error, these are just changes to the specificity of a function.\n",
    "\n",
    "Summing up the above:\n",
    "- arguments can be made more specific\n",
    "- return types can be made more general\n",
    "\n",
    "# Variance restrictions in Scala\n",
    "\n",
    "The Scala compiler imposes important restrictions, though. The variance of a type must be preserved: it's not legal to declare a type as covariant and then use it somewhere where it's expected to be contravariant and vice versa. For example:"
   ]
  },
  {
   "cell_type": "code",
   "execution_count": 3,
   "metadata": {
    "collapsed": false
   },
   "outputs": [
    {
     "name": "stderr",
     "output_type": "stream",
     "text": [
      "cmd3.sc:1: contravariant type X occurs in covariant position in type [-X]X of type MyContra1\n",
      "type MyContra1[-X] = X\n",
      "     ^"
     ]
    },
    {
     "ename": "",
     "evalue": "",
     "output_type": "error",
     "traceback": [
      "Compilation Failed"
     ]
    }
   ],
   "source": [
    "type MyContra1[-X] = X\n",
    "type MyCov1[+Y] = MyContra1[Y] // Y has been declared covariant, it's not possible to pass it to `MyContra1`"
   ]
  },
  {
   "cell_type": "code",
   "execution_count": 3,
   "metadata": {
    "collapsed": false
   },
   "outputs": [
    {
     "name": "stderr",
     "output_type": "stream",
     "text": [
      "cmd3.sc:2: contravariant type Y occurs in covariant position in type [-Y]Helper.this.MyCov2[Y] of type MyContra2\n",
      "type MyContra2[-Y] = MyCov2[Y] // Y has been declared contravariant, it's not possible to pass it to `MyCov2`\n",
      "     ^"
     ]
    },
    {
     "ename": "",
     "evalue": "",
     "output_type": "error",
     "traceback": [
      "Compilation Failed"
     ]
    }
   ],
   "source": [
    "type MyCov2[+X] = X\n",
    "type MyContra2[-Y] = MyCov2[Y] // Y has been declared contravariant, it's not possible to pass it to `MyCov2`"
   ]
  },
  {
   "cell_type": "markdown",
   "metadata": {},
   "source": [
    "# Variance restrictions in functions"
   ]
  },
  {
   "cell_type": "markdown",
   "metadata": {},
   "source": [
    "Because of the covariance restrictions over functions you cannot put a covariant type in as an argument:"
   ]
  },
  {
   "cell_type": "code",
   "execution_count": 3,
   "metadata": {
    "collapsed": false
   },
   "outputs": [
    {
     "name": "stderr",
     "output_type": "stream",
     "text": [
      "cmd3.sc:2: covariant type T occurs in contravariant position in type T of value animal\n",
      "  def heal(animal: T): Boolean\n",
      "           ^"
     ]
    },
    {
     "ename": "",
     "evalue": "",
     "output_type": "error",
     "traceback": [
      "Compilation Failed"
     ]
    }
   ],
   "source": [
    "trait Vet[+T] {\n",
    "  def heal(animal: T): Boolean\n",
    "}"
   ]
  },
  {
   "cell_type": "markdown",
   "metadata": {},
   "source": [
    "Important to note is that this error message is very general, it doesn't say it's specifically related to functions.\n",
    "\n",
    "Similarly, you cannot put a contravariant type as a result:"
   ]
  },
  {
   "cell_type": "code",
   "execution_count": 3,
   "metadata": {
    "collapsed": false
   },
   "outputs": [
    {
     "name": "stderr",
     "output_type": "stream",
     "text": [
      "cmd3.sc:2: contravariant type T occurs in covariant position in type ()T of method cloneAnimal\n",
      "  def cloneAnimal(): T\n",
      "      ^"
     ]
    },
    {
     "ename": "",
     "evalue": "",
     "output_type": "error",
     "traceback": [
      "Compilation Failed"
     ]
    }
   ],
   "source": [
    "trait Lab[-T] {\n",
    "  def cloneAnimal(): T\n",
    "}"
   ]
  },
  {
   "cell_type": "markdown",
   "metadata": {},
   "source": [
    "Why these restrictions?\n",
    "\n",
    "First, a mental exercise for covariance:"
   ]
  },
  {
   "cell_type": "code",
   "execution_count": 4,
   "metadata": {
    "collapsed": false
   },
   "outputs": [
    {
     "ename": "",
     "evalue": "",
     "output_type": "error",
     "traceback": [
      "\u001b[31mjava.lang.Exception: Oh not, got an unexpected class $sess.cmd0Wrapper$Helper$Dog\u001b[39m",
      "  $sess.cmd3Wrapper$Helper$$anon$1.heal(\u001b[32mcmd3.sc\u001b[39m:\u001b[32m12\u001b[39m)",
      "  $sess.cmd3Wrapper$Helper.<init>(\u001b[32mcmd3.sc\u001b[39m:\u001b[32m19\u001b[39m)",
      "  $sess.cmd3Wrapper.<init>(\u001b[32mcmd3.sc\u001b[39m:\u001b[32m110\u001b[39m)",
      "  $sess.cmd3$.<init>(\u001b[32mcmd3.sc\u001b[39m:\u001b[32m71\u001b[39m)",
      "  $sess.cmd3$.<clinit>(\u001b[32mcmd3.sc\u001b[39m:\u001b[32m-1\u001b[39m)"
     ]
    }
   ],
   "source": [
    "trait Vet[+T] {\n",
    "   def heal(animal: Any): Boolean // IMAGINE it's not Any but T\n",
    "}\n",
    "\n",
    "// This widening works because of covariance: Cat <: Animal => Vet[Cat] <: Vet[Animal]\n",
    "val notReallyAGeneralVet: Vet[Animal] = new Vet[Cat] {\n",
    "     def heal(animal: Any): Boolean = { // IMAGINE it's not Any but Cat\n",
    "       animal match {\n",
    "         case Cat(_) => \n",
    "            true\n",
    "         case other =>\n",
    "            throw new Exception(s\"Oh not, got an unexpected ${other.getClass}\")\n",
    "       }\n",
    "     }\n",
    "} \n",
    "\n",
    "val dog: Dog = Dog(\"Pulgas\")\n",
    "\n",
    "notReallyAGeneralVet.heal(dog) // this invocation, if it had compiled with a generic type T, would be unsafe."
   ]
  },
  {
   "cell_type": "markdown",
   "metadata": {},
   "source": [
    "Allowing covariance in arguments makes a method **forget** the specific type it works with, that's why it's not permitted. It allows us to \"lie\": we can turn a method that only receives a _specific subset_ of values into one that receives a _more general set_ of values.\n",
    "\n",
    "In the example above, covariance in the argument would have made a function that only works accepting `Cats` be allowed to be invoked with _an_ `Animal`, in particular one that's not a `Cat`, like a `Dog`. This is an error that the variance annotations can help catch at compile time.\n",
    "\n",
    "Now, a mental exercise with contravariance:"
   ]
  },
  {
   "cell_type": "code",
   "execution_count": 5,
   "metadata": {
    "collapsed": false
   },
   "outputs": [
    {
     "ename": "",
     "evalue": "",
     "output_type": "error",
     "traceback": [
      "\u001b[31mjava.lang.ClassCastException: $sess.cmd0Wrapper$Helper$Dog cannot be cast to $sess.cmd0Wrapper$Helper$Cat\u001b[39m",
      "  $sess.cmd4Wrapper$Helper.<init>(\u001b[32mcmd4.sc\u001b[39m:\u001b[32m12\u001b[39m)",
      "  $sess.cmd4Wrapper.<init>(\u001b[32mcmd4.sc\u001b[39m:\u001b[32m106\u001b[39m)",
      "  $sess.cmd4$.<init>(\u001b[32mcmd4.sc\u001b[39m:\u001b[32m71\u001b[39m)",
      "  $sess.cmd4$.<clinit>(\u001b[32mcmd4.sc\u001b[39m:\u001b[32m-1\u001b[39m)"
     ]
    }
   ],
   "source": [
    "trait Lab[-T] {\n",
    "  def cloneAnimal(): Any // IMAGINE it's not Any but T\n",
    "}\n",
    "\n",
    "// This narrowing works because of contravariance: Cat <: Animal => Lab[Animal] <: Lab[Cat]\n",
    "val notReallyACatCloner: Lab[Cat] = new Lab[Animal] {\n",
    "  def cloneAnimal(): Any = // IMAGINE it's not Any but Animal\n",
    "     Dog(\"pulgas\")\n",
    "}\n",
    "\n",
    "// cloneAnimal should return a Cat, because it's type is Lab[Cat].\n",
    "val cat = notReallyACatCloner.cloneAnimal().asInstanceOf[Cat]"
   ]
  },
  {
   "cell_type": "markdown",
   "metadata": {},
   "source": [
    "Similarly, allowing contravariance in return types allows making "
   ]
  },
  {
   "cell_type": "code",
   "execution_count": 6,
   "metadata": {
    "collapsed": false
   },
   "outputs": [
    {
     "data": {
      "text/plain": [
       "defined \u001b[32mtrait\u001b[39m \u001b[36mList\u001b[39m\n",
       "defined \u001b[32mclass\u001b[39m \u001b[36mCons\u001b[39m\n",
       "defined \u001b[32mobject\u001b[39m \u001b[36mEmpty\u001b[39m\n",
       "\u001b[36my\u001b[39m: \u001b[32mList\u001b[39m[\u001b[32mCat\u001b[39m] = Cons(Cat(c),Empty)\n",
       "\u001b[36mx\u001b[39m: \u001b[32mList\u001b[39m[\u001b[32mAnimal\u001b[39m] = Cons(Cat(c),Empty)"
      ]
     },
     "execution_count": 6,
     "metadata": {},
     "output_type": "execute_result"
    }
   ],
   "source": [
    "// A = Cat\n",
    "// A1 >: Cat => Animal\n",
    "sealed trait List[+A] {\n",
    "  def prepend[A1 >: A](other: A1): List[A1] = ???\n",
    "}\n",
    "case class Cons[A](head: A, tail: List[A]) extends List[A]\n",
    "case object Empty extends List[Nothing]\n",
    "\n",
    "val y: List[Cat]    = Cons(Cat(\"c\"), Empty)\n",
    "val x: List[Animal] = y"
   ]
  },
  {
   "cell_type": "code",
   "execution_count": 10,
   "metadata": {
    "collapsed": false
   },
   "outputs": [
    {
     "data": {
      "text/plain": [
       "defined \u001b[32mtrait\u001b[39m \u001b[36mSink\u001b[39m\n",
       "defined \u001b[32mtrait\u001b[39m \u001b[36mSinkSink\u001b[39m"
      ]
     },
     "execution_count": 10,
     "metadata": {},
     "output_type": "execute_result"
    }
   ],
   "source": [
    "// trait VetC[-A] {\n",
    "//  def rescueAnimal[B <: A]():B = ???\n",
    "// }\n",
    "// val vet: VetC[Animal] = new VetC[Animal] {}\n",
    "// lazy val dog: Dog = vet.rescueAnimal()\n",
    "\n",
    "trait Sink[-T] {\n",
    " def process(t: T): Unit\n",
    "}\n",
    "\n",
    "trait SinkSink[-T] {\n",
    " def process(sink: T): Unit\n",
    "}"
   ]
  }
 ],
 "metadata": {
  "kernelspec": {
   "display_name": "Scala",
   "language": "scala",
   "name": "scala"
  },
  "language_info": {
   "codemirror_mode": "text/x-scala",
   "file_extension": ".scala",
   "mimetype": "text/x-scala",
   "name": "scala211",
   "nbconvert_exporter": "scala",
   "pygments_lexer": "scala",
   "version": "2.11.8"
  }
 },
 "nbformat": 4,
 "nbformat_minor": 2
}
