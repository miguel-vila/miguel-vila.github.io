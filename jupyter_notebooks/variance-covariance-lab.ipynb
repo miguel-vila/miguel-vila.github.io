{
 "cells": [
  {
   "cell_type": "code",
   "execution_count": 1,
   "metadata": {
    "collapsed": false
   },
   "outputs": [
    {
     "data": {
      "text/plain": [
       "defined \u001b[32mtrait\u001b[39m \u001b[36mAnimal\u001b[39m\n",
       "defined \u001b[32mobject\u001b[39m \u001b[36mAnimal\u001b[39m\n",
       "defined \u001b[32mtrait\u001b[39m \u001b[36mVet\u001b[39m\n",
       "\u001b[36mmyDog\u001b[39m: \u001b[32mAnimal\u001b[39m.\u001b[32mDog\u001b[39m = \u001b[33mDog\u001b[39m(\u001b[32m\"Buddy\"\u001b[39m)\n",
       "\u001b[36mfelix\u001b[39m: \u001b[32mAnimal\u001b[39m = Cat(Felix)\n",
       "\u001b[36mmyVet\u001b[39m: \u001b[32mVet\u001b[39m[\u001b[32mAnimal\u001b[39m.\u001b[32mDog\u001b[39m] = $sess.cmd0Wrapper$Helper$$anon$1@703ba5"
      ]
     },
     "execution_count": 1,
     "metadata": {},
     "output_type": "execute_result"
    }
   ],
   "source": [
    "sealed trait Animal\n",
    "object Animal {\n",
    "  final case class Dog(name: String) extends Animal\n",
    "  final case class Cat(name: String) extends Animal\n",
    "}\n",
    "trait Vet[-T] {\n",
    "  def heal(animal: T): Boolean\n",
    "}\n",
    "val myDog = Animal.Dog(\"Buddy\")\n",
    "val felix: Animal = Animal.Cat(\"Felix\")\n",
    "val myVet: Vet[Animal.Dog] = new Vet[Animal.Dog] {\n",
    "    def heal(animal: Animal.Dog) = {\n",
    "       true\n",
    "    }\n",
    "}"
   ]
  },
  {
   "cell_type": "markdown",
   "metadata": {},
   "source": [
    "# Functions variance\n",
    "\n",
    "Functions are contravariant in their arguments, and covariant in their results. Why? If a functions accepts one type, then it can accept any of it's subtypes. For example, if I know how to name an animal, I know how to name cats in particular:"
   ]
  },
  {
   "cell_type": "code",
   "execution_count": 6,
   "metadata": {
    "collapsed": false
   },
   "outputs": [
    {
     "data": {
      "text/plain": [
       "\u001b[36mf1\u001b[39m: \u001b[32mAnimal\u001b[39m => \u001b[32mString\u001b[39m = <function1>\n",
       "\u001b[36mf2\u001b[39m: \u001b[32mAnimal\u001b[39m.\u001b[32mCat\u001b[39m => \u001b[32mString\u001b[39m = <function1>"
      ]
     },
     "execution_count": 6,
     "metadata": {},
     "output_type": "execute_result"
    }
   ],
   "source": [
    "val f1 : Animal     => String = _.toString\n",
    "val f2 : Animal.Cat => String = f1\n",
    "val f3 : Animal.Dog => String = f1"
   ]
  },
  {
   "cell_type": "markdown",
   "metadata": {},
   "source": [
    "On the other hand, if a function returns an specific type, then that result can also be viewed as any of it's supertypes. For example, if I know how to clone a Cat then I know how to clone _some_ animal:"
   ]
  },
  {
   "cell_type": "code",
   "execution_count": 11,
   "metadata": {
    "collapsed": false
   },
   "outputs": [
    {
     "data": {
      "text/plain": [
       "\u001b[36mf1\u001b[39m: \u001b[32mUnit\u001b[39m => \u001b[32mAnimal\u001b[39m.\u001b[32mCat\u001b[39m = <function1>\n",
       "\u001b[36mf2\u001b[39m: \u001b[32mUnit\u001b[39m => \u001b[32mAnimal\u001b[39m = <function1>\n",
       "\u001b[36mf3\u001b[39m: \u001b[32mUnit\u001b[39m => \u001b[32mAnimal\u001b[39m.\u001b[32mDog\u001b[39m = <function1>\n",
       "\u001b[36mf4\u001b[39m: \u001b[32mUnit\u001b[39m => \u001b[32mAnimal\u001b[39m = <function1>"
      ]
     },
     "execution_count": 11,
     "metadata": {},
     "output_type": "execute_result"
    }
   ],
   "source": [
    "val f1 : Unit => Animal.Cat = _ => Animal.Cat(\"minino\")\n",
    "val f2 : Unit => Animal     = f1\n",
    "\n",
    "// Same thing happens with other subtypes\n",
    "val f3 : Unit => Animal.Dog = _ => Animal.Dog(\"pulgas\")\n",
    "val f4 : Unit => Animal     = f3"
   ]
  },
  {
   "cell_type": "markdown",
   "metadata": {},
   "source": [
    "# Variance restrictions in functions"
   ]
  },
  {
   "cell_type": "markdown",
   "metadata": {},
   "source": [
    "Because of the covariance restrictions over functions you cannot put a covariant type in as an argument:"
   ]
  },
  {
   "cell_type": "code",
   "execution_count": 2,
   "metadata": {
    "collapsed": false
   },
   "outputs": [
    {
     "name": "stderr",
     "output_type": "stream",
     "text": [
      "cmd2.sc:2: covariant type T occurs in contravariant position in type T of value animal\n",
      "  def heal(animal: T): Boolean\n",
      "           ^"
     ]
    },
    {
     "ename": "",
     "evalue": "",
     "output_type": "error",
     "traceback": [
      "Compilation Failed"
     ]
    }
   ],
   "source": [
    "trait Vet[+T] {\n",
    "  def heal(animal: T): Boolean\n",
    "}"
   ]
  },
  {
   "cell_type": "markdown",
   "metadata": {},
   "source": [
    "Similarly, you cannot put a contravariant type as a result:"
   ]
  },
  {
   "cell_type": "code",
   "execution_count": null,
   "metadata": {
    "collapsed": true
   },
   "outputs": [],
   "source": [
    "trait Lab[-T] {\n",
    "  def clone(): T\n",
    "}"
   ]
  },
  {
   "cell_type": "markdown",
   "metadata": {},
   "source": [
    "Why these restrictions?\n",
    "\n",
    "First, a mental exercise for covariance:"
   ]
  },
  {
   "cell_type": "code",
   "execution_count": 3,
   "metadata": {
    "collapsed": false
   },
   "outputs": [
    {
     "ename": "",
     "evalue": "",
     "output_type": "error",
     "traceback": [
      "\u001b[31mjava.lang.Exception: Oh not, got an unexpected class $sess.cmd0Wrapper$Helper$Animal$Dog\u001b[39m",
      "  $sess.cmd2Wrapper$Helper$$anon$1.heal(\u001b[32mcmd2.sc\u001b[39m:\u001b[32m11\u001b[39m)",
      "  $sess.cmd2Wrapper$Helper.<init>(\u001b[32mcmd2.sc\u001b[39m:\u001b[32m18\u001b[39m)",
      "  $sess.cmd2Wrapper.<init>(\u001b[32mcmd2.sc\u001b[39m:\u001b[32m100\u001b[39m)",
      "  $sess.cmd2$.<init>(\u001b[32mcmd2.sc\u001b[39m:\u001b[32m66\u001b[39m)",
      "  $sess.cmd2$.<clinit>(\u001b[32mcmd2.sc\u001b[39m:\u001b[32m-1\u001b[39m)"
     ]
    }
   ],
   "source": [
    "trait Vet[+T] {\n",
    "   def heal(animal: Any): Boolean // IMAGINE it's not Any but T\n",
    "}\n",
    "\n",
    "val notReallyAGeneralVet: Vet[Animal] = new Vet[Animal.Cat] { // This works because of covariance: Cat <: Animal => Vet[Cat] <: Vet[Animal]\n",
    "     def heal(animal: Any): Boolean = { // IMAGINE it's not Any but Cat\n",
    "       animal match {\n",
    "         case Animal.Cat(_) => \n",
    "            true\n",
    "         case other =>\n",
    "            throw new Exception(s\"Oh not, got an unexpected ${other.getClass}\")\n",
    "       }\n",
    "     }\n",
    "} \n",
    "\n",
    "val dog: Animal.Dog = Animal.Dog(\"Pulgas\")\n",
    "\n",
    "notReallyAGeneralVet.heal(dog) // this invocation, if it had compiled with a generic type T, would be unsafe."
   ]
  },
  {
   "cell_type": "markdown",
   "metadata": {},
   "source": [
    "Allowing covariance in arguments makes a method **forget** the specific type it works with, that's why it's not permitted. It allows us to \"lie\": we can turn a method that only receives a specific subset of values into one that receives a more general set of values.\n",
    "\n",
    "In the example above, covariance would have made a function that only works accepting `Cats` be allowed to be invoked _an_ `Animal`, in particular one that's not a `Cat`, like a `Dog`. This is an error that the variance annotations can help catch at compile time.\n",
    "\n",
    "Now, a mental exercise with contravariance:"
   ]
  },
  {
   "cell_type": "code",
   "execution_count": 4,
   "metadata": {
    "collapsed": false
   },
   "outputs": [
    {
     "ename": "",
     "evalue": "",
     "output_type": "error",
     "traceback": [
      "\u001b[31mjava.lang.ClassCastException: $sess.cmd0Wrapper$Helper$Animal$Dog cannot be cast to $sess.cmd0Wrapper$Helper$Animal$Cat\u001b[39m",
      "  $sess.cmd3Wrapper$Helper.<init>(\u001b[32mcmd3.sc\u001b[39m:\u001b[32m10\u001b[39m)",
      "  $sess.cmd3Wrapper.<init>(\u001b[32mcmd3.sc\u001b[39m:\u001b[32m96\u001b[39m)",
      "  $sess.cmd3$.<init>(\u001b[32mcmd3.sc\u001b[39m:\u001b[32m66\u001b[39m)",
      "  $sess.cmd3$.<clinit>(\u001b[32mcmd3.sc\u001b[39m:\u001b[32m-1\u001b[39m)"
     ]
    }
   ],
   "source": [
    "trait Lab[-T] {\n",
    "  def cloneAnimal(): Any // IMAGINE it's not Any but T\n",
    "}\n",
    "\n",
    "val notReallyACatCloner: Lab[Animal.Cat] = new Lab[Animal] { // This works because of contravariance: Cat <: Animal => Lab[Animal] <: Lab[Cat]\n",
    "  def cloneAnimal(): Any = // IMAGINE it's not Any but Animal\n",
    "     Animal.Dog(\"pulgas\")\n",
    "}\n",
    "\n",
    "val cat = notReallyACatCloner.cloneAnimal().asInstanceOf[Animal.Cat] // this invocation, if cloneAnimal returned type T, should "
   ]
  }
 ],
 "metadata": {
  "kernelspec": {
   "display_name": "Scala",
   "language": "scala",
   "name": "scala"
  },
  "language_info": {
   "codemirror_mode": "text/x-scala",
   "file_extension": ".scala",
   "mimetype": "text/x-scala",
   "name": "scala211",
   "nbconvert_exporter": "scala",
   "pygments_lexer": "scala",
   "version": "2.11.8"
  }
 },
 "nbformat": 4,
 "nbformat_minor": 2
}
